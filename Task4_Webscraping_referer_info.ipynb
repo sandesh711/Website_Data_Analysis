{
 "cells": [
  {
   "cell_type": "code",
   "execution_count": 32,
   "id": "bebd9a38-0446-4506-9e46-e71cf00edd3e",
   "metadata": {},
   "outputs": [
    {
     "name": "stdout",
     "output_type": "stream",
     "text": [
      "Connected to URL\n",
      "Fetching Referrer Information to Site: www.sandesh711.com\n",
      "                                  Referer Hits Provided\n",
      "0                          www.google.com          4785\n",
      "1                            www.bing.com           662\n",
      "2                 https://www.google.com/           489\n",
      "3                         anonymousfox.co           189\n",
      "4                   http://www.google.com           185\n",
      "5  https://theforceguide.com/sellers.json            90\n",
      "6       https://bakman.fresnounified.org/            90\n",
      "7                  https://www.google.com            59\n",
      "8                http://68.178.148.82:80/            55\n",
      "9                  http://www.google.com/            42\n",
      "Program Run Complete.\n"
     ]
    }
   ],
   "source": [
    "import requests\n",
    "import os\n",
    "import pandas as pd\n",
    "from bs4 import BeautifulSoup\n",
    "from urllib.parse import urlparse\n",
    "try:\n",
    "    url=\"https://www.sandesh711.com/visitor.php\"\n",
    "    parsed_url=urlparse(url)\n",
    "except socket.gaierror:\n",
    "    print(\"Could not connect to URL, Sorry.\")\n",
    "else:\n",
    "    print(\"Connected to URL\\nFetching Referrer Information to Site:\",parsed_url.netloc)\n",
    "    html_content=requests.get(url).text\n",
    "    soup=BeautifulSoup(html_content,'html.parser')\n",
    "    referer=pd.DataFrame()\n",
    "    for row in soup.find_all('table')[0].find_all('tr'):\n",
    "        col=row.find_all('td')\n",
    "        refer=col[0].text\n",
    "        hits=col[1].text\n",
    "        referer=pd.concat([referer,pd.DataFrame({\"Referer\":[refer],\"Hits Provided\":[hits]})],ignore_index=True)\n",
    "    print(referer)\n",
    "finally:\n",
    "    print(\"Program Run Complete.\")"
   ]
  },
  {
   "cell_type": "code",
   "execution_count": null,
   "id": "ee920c92-a939-44c6-9dff-48c3465340f6",
   "metadata": {},
   "outputs": [],
   "source": []
  }
 ],
 "metadata": {
  "kernelspec": {
   "display_name": "Python 3 (ipykernel)",
   "language": "python",
   "name": "python3"
  },
  "language_info": {
   "codemirror_mode": {
    "name": "ipython",
    "version": 3
   },
   "file_extension": ".py",
   "mimetype": "text/x-python",
   "name": "python",
   "nbconvert_exporter": "python",
   "pygments_lexer": "ipython3",
   "version": "3.12.5"
  }
 },
 "nbformat": 4,
 "nbformat_minor": 5
}
