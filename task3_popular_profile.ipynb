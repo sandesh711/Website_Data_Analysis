{
 "cells": [
  {
   "cell_type": "code",
   "execution_count": 1,
   "id": "071bfbb5-45fd-4ed2-880b-58c59cf7be1e",
   "metadata": {},
   "outputs": [
    {
     "name": "stdout",
     "output_type": "stream",
     "text": [
      "Top Searched Portfolio:\n",
      "\n",
      "#1 Style With Plixxi\n",
      "\n",
      "#2 Suvitha Rajendran\n",
      "\n",
      "#3 Nikita Sharma Official\n",
      "\n",
      "#4 Rimpi 31\n",
      "\n",
      "#5 Symrann K\n",
      "\n",
      "#6 Roma Varadkar\n",
      "\n",
      "#7 Aahana Kumra\n",
      "\n",
      "#8 Neha Saha\n",
      "\n",
      "#9 Official Tanya Chaudhari\n",
      "\n",
      "#10 Monalisa\n",
      "\n"
     ]
    }
   ],
   "source": [
    "from bs4 import BeautifulSoup\n",
    "import requests\n",
    "\n",
    "url = \"https://www.sandesh711.com/leaderboard.php\"\n",
    "r = requests.get(url)\n",
    "# print(\"Status Code:\", r.status_code)\n",
    "# print(\"Content Type:\", r.headers['Content-Type'])\n",
    "\n",
    "html_content = r.text\n",
    "soup = BeautifulSoup(html_content, 'html.parser')\n",
    "\n",
    "# Get all tables\n",
    "tables = soup.find_all('table')\n",
    "\n",
    "# Pick the first table (index 0)\n",
    "if tables:\n",
    "    first_table = tables[0]\n",
    "\n",
    "    # Get all rows\n",
    "    trs = first_table.find_all('tr')\n",
    "    print(\"Top Searched Portfolio:\\n\")\n",
    "    for i,tr in enumerate(trs):\n",
    "        tds = tr.find_all('td')\n",
    "        for td in tds:\n",
    "            if td.find('h2'):\n",
    "                print(td.find('h2').text.strip(),end=\" \")\n",
    "            if td.find('a'):\n",
    "                print(td.find('a').text.strip())\n",
    "        if i==9:\n",
    "            break;\n",
    "else:\n",
    "    print(\"No tables found.\")"
   ]
  },
  {
   "cell_type": "code",
   "execution_count": null,
   "id": "1ac27f39-4040-4ebc-bd3a-e5f510603036",
   "metadata": {},
   "outputs": [],
   "source": []
  }
 ],
 "metadata": {
  "kernelspec": {
   "display_name": "Python 3 (ipykernel)",
   "language": "python",
   "name": "python3"
  },
  "language_info": {
   "codemirror_mode": {
    "name": "ipython",
    "version": 3
   },
   "file_extension": ".py",
   "mimetype": "text/x-python",
   "name": "python",
   "nbconvert_exporter": "python",
   "pygments_lexer": "ipython3",
   "version": "3.12.5"
  }
 },
 "nbformat": 4,
 "nbformat_minor": 5
}
